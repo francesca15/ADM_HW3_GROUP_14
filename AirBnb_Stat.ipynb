{
 "cells": [
  {
   "cell_type": "code",
   "execution_count": 16,
   "metadata": {},
   "outputs": [],
   "source": [
    "import pandas as pd\n",
    "m = pd.read_csv(\"Airbnb_Texas_Rentals.csv\",encoding = 'utf8')"
   ]
  },
  {
   "cell_type": "code",
   "execution_count": 17,
   "metadata": {},
   "outputs": [],
   "source": [
    "#we found words like '\\\\n' in the dataset so we cleaned it\n",
    "m = m.replace({r'\\s+$': '', r'^\\s+': ''}, regex=True).replace(r'\\\\n',  ' ', regex=True)\n",
    "m = m.replace({r'\\s+$': '', r'^\\s+': ''}, regex=True).replace(r'\\\\t',  ' ', regex=True)\n",
    "m = m.replace({r'\\s+$': '', r'^\\s+': ''}, regex=True).replace(r'\\\\r',  ' ', regex=True)"
   ]
  },
  {
   "cell_type": "code",
   "execution_count": 18,
   "metadata": {},
   "outputs": [],
   "source": [
    "#create tsv files,we droped the first column that was a prroblem\n",
    "from os.path import join as pjoin\n",
    "import csv\n",
    "m = m.drop(['Unnamed: 0'], axis=1)"
   ]
  },
  {
   "cell_type": "code",
   "execution_count": 19,
   "metadata": {},
   "outputs": [
    {
     "name": "stdout",
     "output_type": "stream",
     "text": [
      "[nltk_data] Downloading package stopwords to C:\\Users\\Matteo\n",
      "[nltk_data]     Cavalletti\\AppData\\Roaming\\nltk_data...\n",
      "[nltk_data]   Package stopwords is already up-to-date!\n"
     ]
    }
   ],
   "source": [
    "#we create the vocabulary of preprocessed documents,but we don't modify the documents because we''l use them in search engine\n",
    "import nltk\n",
    "import csv\n",
    "import re\n",
    "import string\n",
    "from nltk.tokenize import RegexpTokenizer\n",
    "from nltk.corpus import stopwords\n",
    "from nltk.stem.snowball import SnowballStemmer\n",
    "nltk.download('stopwords')\n",
    "stop_words = set(stopwords.words('english'))\n",
    "tokenizer = RegexpTokenizer(r'\\w+|\\$')\n",
    "ps = SnowballStemmer('english')\n",
    "dic = {}\n",
    "for i in range(18259):\n",
    "    with open(r'docu_hw3\\doc_'+str(i)+'.tsv',encoding='utf8') as tsvfile:\n",
    "         tsvreader = list(csv.reader(tsvfile, delimiter=\"\\t\"))\n",
    "    l1 = tsvreader[0][4]\n",
    "    l2 = tsvreader[0][7]\n",
    "    l = l1+ ' ' +l2\n",
    "    l = l.lower()\n",
    "    l = tokenizer.tokenize(l)\n",
    "    for r in l :\n",
    "        if not r in stop_words:\n",
    "            sr = ps.stem(r)\n",
    "            if not  sr in dic:\n",
    "                dic[sr] = [i]\n",
    "            else:\n",
    "                dic[sr]+=[i]\n",
    "                \n"
   ]
  },
  {
   "cell_type": "code",
   "execution_count": 20,
   "metadata": {},
   "outputs": [],
   "source": [
    "# create dictionary of words\n",
    "dic_word = {}\n",
    "dic_assoc = {}\n",
    "c = 0\n",
    "for key in dic:\n",
    "    dic_word[key] = c\n",
    "    dic_assoc[c] = dic[key]\n",
    "    c += 1"
   ]
  },
  {
   "cell_type": "code",
   "execution_count": 21,
   "metadata": {},
   "outputs": [],
   "source": [
    "# create dictionary of documents\n",
    "dic_doc={}\n",
    "for i in range(18259):\n",
    "    dic_doc[r'docu_hw3\\doc_'+str(i)+'.tsv']= i"
   ]
  },
  {
   "cell_type": "code",
   "execution_count": 25,
   "metadata": {},
   "outputs": [
    {
     "name": "stdout",
     "output_type": "stream",
     "text": [
      "Fully Renovated Vacation Home in North Plano\tThis beautiful home located in a nice and convenient community in North Plano with best schools around. You can stay here with a peaceful mind, because we have prepared everything brand new for you. You will find everything a hotel provide here, and much more! High speed wifi (ultimate fast speed up to 200 Mbps), 55 inch Smart TV(Netflix and local channels), double garage, outdoor grill, study area, etc. It is good for couples, business travellers, families (with kids), and big groups. BOOK NOW!\tPlano\thttps://www.airbnb.com/rooms/15028039?location=Celina%2C%20TX\n",
      "\n",
      "The Hannley Ranch\tThe adorable Hannley's Ranch House is on 6 acres of quiet and peaceful land, it is so close to Sea World, Fiesta Texas, La Cantera Shopping and many Restaurants . You’ll love this place because of the scenery and mind escaping atmosphere. The Hannley Ranch is good for couples, solo adventurers, business travelers, and families (with kids). Enjoy a dip in the Jacuzzi under the stars, tennis court, BBQ &amp; fire pit, games for indoor/outdoor and lets not forget the Hannley's horse stable (no riding)\tSan Antonio\thttps://www.airbnb.com/rooms/16070034?location=Castroville%2C%20TX\n",
      "\n",
      "Fully Renovated Vacation Home in North Plano\tThis beautiful home located in a nice and convenient community in North Plano with best schools around. You can stay here with a peaceful mind, because we have prepared everything brand new for you. You will find everything a hotel provide here, and much more! High speed wifi (ultimate fast speed up to 200 Mbps), 55 inch Smart TV(Netflix and local channels), double garage, outdoor grill, study area, etc. It is good for couples, business travellers, families (with kids), and big groups. BOOK NOW!\tPlano\thttps://www.airbnb.com/rooms/15028039?location=Allen%2C%20TX\n",
      "\n"
     ]
    }
   ],
   "source": [
    "word = 'good peaceful mind'\n",
    "word_list = word.split(' ')\n",
    "\n",
    "list_doc_list = []\n",
    "\n",
    "for w in word_list:\n",
    "        curWord = ps.stem(w)\n",
    "        \n",
    "        doc_list = dic_assoc[dic_word[curWord]]\n",
    "        list_doc_list.append(doc_list)  \n",
    "        \n",
    "list_intersect = list_doc_list[0]\n",
    "\n",
    "def intersection(lst1, lst2): \n",
    "    lst3 = [value for value in lst1 if value in lst2] \n",
    "    return lst3 \n",
    "        \n",
    "for docList in list_doc_list:\n",
    "    list_intersect = intersection(list_intersect, docList)\n",
    "\n",
    "        \n",
    "for doc in list_intersect:\n",
    "    with open(r'docu_hw3\\doc_'+ str(doc) + '.tsv',encoding='utf8') as tsvfile:\n",
    "         tsvreader = list(csv.reader(tsvfile, delimiter=\"\\t\"))\n",
    "    title = tsvreader[0][7]        \n",
    "    description = tsvreader[0][4]\n",
    "    city = tsvreader[0][2]\n",
    "    url = tsvreader[0][8]\n",
    "    \n",
    "    print(title + '\\t' + description + '\\t' + city + '\\t' + url + '\\n')\n"
   ]
  }
 ],
 "metadata": {
  "kernelspec": {
   "display_name": "Python 3",
   "language": "python",
   "name": "python3"
  },
  "language_info": {
   "codemirror_mode": {
    "name": "ipython",
    "version": 3
   },
   "file_extension": ".py",
   "mimetype": "text/x-python",
   "name": "python",
   "nbconvert_exporter": "python",
   "pygments_lexer": "ipython3",
   "version": "3.6.5"
  }
 },
 "nbformat": 4,
 "nbformat_minor": 2
}
